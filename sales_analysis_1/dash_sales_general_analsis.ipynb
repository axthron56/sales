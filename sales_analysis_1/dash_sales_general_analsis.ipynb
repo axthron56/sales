{
 "cells": [
  {
   "cell_type": "code",
   "execution_count": 1,
   "metadata": {
    "tags": [
     "parameters"
    ]
   },
   "outputs": [],
   "source": [
    "flex_title = \"B-Solutions\"\n",
    "flex_orientation = \"rows\"\n",
    "flex_subtitle = \"Sales Dashboard Analysis\"\n",
    "flex_source_link = \"\"\n",
    "flex_include_source = True"
   ]
  },
  {
   "cell_type": "markdown",
   "metadata": {},
   "source": [
    "# Sales General Information"
   ]
  },
  {
   "cell_type": "markdown",
   "metadata": {},
   "source": [
    "## Row 1"
   ]
  },
  {
   "cell_type": "markdown",
   "metadata": {
    "tags": [
     "size=385"
    ]
   },
   "source": [
    "### Sales general description: "
   ]
  },
  {
   "cell_type": "code",
   "execution_count": 2,
   "metadata": {
    "tags": [
     "source"
    ]
   },
   "outputs": [],
   "source": [
    "import numpy as np\n",
    "import pandas as pd\n",
    "import matplotlib.pyplot as plt\n",
    "import seaborn as sns\n",
    "from pandas import date_range\n",
    "from bqplot import *\n",
    "%matplotlib inline"
   ]
  },
  {
   "cell_type": "code",
   "execution_count": 3,
   "metadata": {
    "tags": [
     "source"
    ]
   },
   "outputs": [],
   "source": [
    "class Data_Generator_Sales:\n",
    "    def __init__(self, size_sample=15):\n",
    "        self.size_sample = size_sample\n",
    "    def store_id_fun(self, product_start, product_end):\n",
    "        product_id = np.random.randint(product_start, product_end, self.size_sample)\n",
    "        yield product_id      \n",
    "    def order_date_id_fun(self):\n",
    "        for _ in range(self.size_sample):\n",
    "            date = pd.to_datetime(np.random.choice(pd.bdate_range('2021-01-01', '2021-03-31')))\n",
    "            yield date\n",
    "    def counstomers_qunatity_fun(self, product_start, product_end):\n",
    "        coustomers_qun_id = np.random.randint(product_start, product_end, self.size_sample)\n",
    "        yield coustomers_qun_id\n",
    "    def product_id_fun(self, product_start, product_end):\n",
    "        product_id = np.random.randint(product_start, product_end, self.size_sample)\n",
    "        yield product_id\n",
    "    def price_id_fun(self, price_start, price_end):\n",
    "        price_id = np.random.randint(price_start, price_end, self.size_sample)\n",
    "        yield price_id\n",
    "    def qunatity_id_fun(self, qunatity_start, qunatity_end):\n",
    "        qunatity_id = np.random.randint(1, 25, self.size_sample)\n",
    "        yield qunatity_id\n",
    "    def promo_data(self, product_start, product_end):\n",
    "        product_id = np.random.randint(product_start, product_end, self.size_sample)\n",
    "        yield product_id\n",
    "\n",
    "def generate_sales_data():\n",
    "    data_generator_sales = Data_Generator_Sales(2000)\n",
    "\n",
    "    generate_data_store = data_generator_sales.store_id_fun(1, 45)\n",
    "    data_store = pd.DataFrame(next(generate_data_store), columns=['store_id'])\n",
    "\n",
    "    generate_date_store_type = data_generator_sales.order_date_id_fun()\n",
    "    date_store_type = pd.DataFrame(generate_date_store_type, columns=['date_purchase'])\n",
    "\n",
    "    customer_qunatity = data_generator_sales.counstomers_qunatity_fun(1, 80)\n",
    "    data_customer = pd.DataFrame(next(customer_qunatity), columns=['customers_quntity'])\n",
    "\n",
    "    generate_data_product = data_generator_sales.product_id_fun(1, 150)\n",
    "    data_product = pd.DataFrame(next(generate_data_product), columns=['product_id'])\n",
    "\n",
    "    generate_data_price_unit = data_generator_sales.price_id_fun(10, 452)\n",
    "    data_price = pd.DataFrame(next(generate_data_price_unit), columns=['price_unit'])\n",
    "\n",
    "    generate_data_quantity = data_generator_sales.qunatity_id_fun(0, 50)\n",
    "    data_quantity = pd.DataFrame(next(generate_data_quantity), columns=['quantity'])\n",
    "\n",
    "    generate_data_promos_apply = data_generator_sales.promo_data(0, 1)\n",
    "    data_promo = pd.DataFrame(next(generate_data_promos_apply), columns=['promos_apply'])\n",
    "\n",
    "    merge_data = pd.concat([data_store, date_store_type, data_customer, data_product, data_price, data_quantity, data_promo], axis=1)\n",
    "    merge_data['total'] = merge_data.quantity * merge_data.price_unit\n",
    "    return merge_data\n",
    "\n",
    "generate_data_sales = generate_sales_data()\n",
    "\n",
    "def convert_dataItime_date():\n",
    "\n",
    "    generate_data_sales['date_purchase'] = pd.to_datetime(generate_data_sales['date_purchase'])\n",
    "\n",
    "    generate_data_sales['months_name'] = generate_data_sales['date_purchase'].dt.month_name()\n",
    "\n",
    "    generate_data_sales['year'] = generate_data_sales['date_purchase'].dt.year\n",
    "\n",
    "    generate_data_sales['year'] = pd.DatetimeIndex(generate_data_sales['date_purchase']).year\n",
    "\n",
    "    generate_data_sales['month'] = pd.DatetimeIndex(generate_data_sales['date_purchase']).month\n",
    "\n",
    "    generate_data_sales['day'] = pd.DatetimeIndex(generate_data_sales['date_purchase']).day\n",
    "\n",
    "    generate_data_sales['week_day'] = pd.DatetimeIndex(generate_data_sales['date_purchase']).weekday\n",
    "\n",
    "    return generate_data_sales\n",
    "\n",
    "generate_data_sales = convert_dataItime_date()"
   ]
  },
  {
   "cell_type": "code",
   "execution_count": 4,
   "metadata": {
    "tags": [
     "source"
    ]
   },
   "outputs": [],
   "source": [
    "class Sales_General_Manipulation:\n",
    "    def __init__(self, data_sales):\n",
    "        self.data_sales = data_sales\n",
    "    def per_month_sales(self, data_months):\n",
    "        data_months = data_months.groupby(['month', 'months_name'])['total'].sum()\n",
    "        return 'Sales Per Month Information: \\n {} \\n'.format(data_months)\n",
    "    def head_sales(self):\n",
    "        data_head = self.data_sales.head()\n",
    "        return 'Sales Table (first 5 rows): \\n {} \\n'.format(data_head)\n",
    "    def per_year_sales(self, data_years):\n",
    "        data_years = data_years.groupby(['year'])['total'].sum()\n",
    "        return 'Sales Per Year Information: \\n {} '.format(data_years)\n",
    "    def general_sales_store_information(self, sales_describe):\n",
    "        sales_describe = sales_describe.describe()\n",
    "        return 'Sales Data General Information: \\n {} \\n  '.format(sales_describe)\n",
    "    def check_for_null_values_sales(self, sales_describe):\n",
    "        sales_describe = sales_describe[pd.isnull(sales_describe)].sum()\n",
    "        return 'Sales Data General Nan Count Values (0 Nan Vales): \\n {} \\n '.format(self.data_sales)\n",
    "    def shape_of_data(self):\n",
    "        self.data_sales = self.data_sales.shape\n",
    "        return 'Shape / Size Sales Data: \\n {} \\n'.format(self.data_sales)\n",
    "\n",
    "general_manipulation_data = Sales_General_Manipulation(generate_data_sales)\n",
    "display_head = general_manipulation_data.head_sales()\n",
    "shape_data = general_manipulation_data.shape_of_data()\n",
    "general_descrbie_data = general_manipulation_data.general_sales_store_information(generate_data_sales)\n",
    "general_nan_count_values = general_manipulation_data.check_for_null_values_sales(generate_data_sales)\n",
    "sales_per_month_all_months = general_manipulation_data.per_month_sales(generate_data_sales)\n",
    "sales_per_year = general_manipulation_data.per_year_sales(generate_data_sales)"
   ]
  },
  {
   "cell_type": "code",
   "execution_count": 5,
   "metadata": {
    "tags": [
     "body"
    ]
   },
   "outputs": [
    {
     "data": {
      "text/html": [
       "<div>\n",
       "<style scoped>\n",
       "    .dataframe tbody tr th:only-of-type {\n",
       "        vertical-align: middle;\n",
       "    }\n",
       "\n",
       "    .dataframe tbody tr th {\n",
       "        vertical-align: top;\n",
       "    }\n",
       "\n",
       "    .dataframe thead tr th {\n",
       "        text-align: left;\n",
       "    }\n",
       "\n",
       "    .dataframe thead tr:last-of-type th {\n",
       "        text-align: right;\n",
       "    }\n",
       "</style>\n",
       "<table border=\"1\" class=\"dataframe\">\n",
       "  <thead>\n",
       "    <tr>\n",
       "      <th></th>\n",
       "      <th colspan=\"2\" halign=\"left\">total</th>\n",
       "    </tr>\n",
       "    <tr>\n",
       "      <th></th>\n",
       "      <th>sum</th>\n",
       "      <th>count</th>\n",
       "    </tr>\n",
       "    <tr>\n",
       "      <th>months_name</th>\n",
       "      <th></th>\n",
       "      <th></th>\n",
       "    </tr>\n",
       "  </thead>\n",
       "  <tbody>\n",
       "    <tr>\n",
       "      <th>February</th>\n",
       "      <td>1775859</td>\n",
       "      <td>639</td>\n",
       "    </tr>\n",
       "    <tr>\n",
       "      <th>January</th>\n",
       "      <td>1967582</td>\n",
       "      <td>657</td>\n",
       "    </tr>\n",
       "    <tr>\n",
       "      <th>March</th>\n",
       "      <td>2100346</td>\n",
       "      <td>704</td>\n",
       "    </tr>\n",
       "  </tbody>\n",
       "</table>\n",
       "</div>"
      ],
      "text/plain": [
       "               total      \n",
       "                 sum count\n",
       "months_name               \n",
       "February     1775859   639\n",
       "January      1967582   657\n",
       "March        2100346   704"
      ]
     },
     "execution_count": 5,
     "metadata": {},
     "output_type": "execute_result"
    }
   ],
   "source": [
    "generate_data_sales[['months_name', 'total']].groupby('months_name').agg(('sum', 'count'))\n"
   ]
  },
  {
   "cell_type": "code",
   "execution_count": 6,
   "metadata": {
    "tags": [
     "body"
    ]
   },
   "outputs": [
    {
     "data": {
      "text/html": [
       "<div>\n",
       "<style scoped>\n",
       "    .dataframe tbody tr th:only-of-type {\n",
       "        vertical-align: middle;\n",
       "    }\n",
       "\n",
       "    .dataframe tbody tr th {\n",
       "        vertical-align: top;\n",
       "    }\n",
       "\n",
       "    .dataframe thead tr th {\n",
       "        text-align: left;\n",
       "    }\n",
       "\n",
       "    .dataframe thead tr:last-of-type th {\n",
       "        text-align: right;\n",
       "    }\n",
       "</style>\n",
       "<table border=\"1\" class=\"dataframe\">\n",
       "  <thead>\n",
       "    <tr>\n",
       "      <th></th>\n",
       "      <th colspan=\"4\" halign=\"left\">total</th>\n",
       "    </tr>\n",
       "    <tr>\n",
       "      <th></th>\n",
       "      <th>max</th>\n",
       "      <th>median</th>\n",
       "      <th>min</th>\n",
       "      <th>mean</th>\n",
       "    </tr>\n",
       "    <tr>\n",
       "      <th>months_name</th>\n",
       "      <th></th>\n",
       "      <th></th>\n",
       "      <th></th>\n",
       "      <th></th>\n",
       "    </tr>\n",
       "  </thead>\n",
       "  <tbody>\n",
       "    <tr>\n",
       "      <th>February</th>\n",
       "      <td>10680</td>\n",
       "      <td>2072</td>\n",
       "      <td>15</td>\n",
       "      <td>2779.122066</td>\n",
       "    </tr>\n",
       "    <tr>\n",
       "      <th>January</th>\n",
       "      <td>10680</td>\n",
       "      <td>2262</td>\n",
       "      <td>24</td>\n",
       "      <td>2994.797565</td>\n",
       "    </tr>\n",
       "    <tr>\n",
       "      <th>March</th>\n",
       "      <td>10632</td>\n",
       "      <td>2220</td>\n",
       "      <td>18</td>\n",
       "      <td>2983.446023</td>\n",
       "    </tr>\n",
       "  </tbody>\n",
       "</table>\n",
       "</div>"
      ],
      "text/plain": [
       "             total                        \n",
       "               max median min         mean\n",
       "months_name                               \n",
       "February     10680   2072  15  2779.122066\n",
       "January      10680   2262  24  2994.797565\n",
       "March        10632   2220  18  2983.446023"
      ]
     },
     "execution_count": 6,
     "metadata": {},
     "output_type": "execute_result"
    }
   ],
   "source": [
    "generate_data_sales[['months_name', 'total']].groupby('months_name').agg(('max', 'median', 'min', 'mean'))"
   ]
  },
  {
   "cell_type": "markdown",
   "metadata": {
    "tags": [
     "size=595"
    ]
   },
   "source": [
    "### Sales 2021"
   ]
  },
  {
   "cell_type": "code",
   "execution_count": 7,
   "metadata": {
    "scrolled": true,
    "tags": [
     "body"
    ]
   },
   "outputs": [
    {
     "data": {
      "image/png": "[encoded data removed]",
      "text/plain": [
       "<Figure size 440.25x360 with 1 Axes>"
      ]
     },
     "metadata": {
      "needs_background": "light"
     },
     "output_type": "display_data"
    }
   ],
   "source": [
    "sns.displot(x='months_name', hue='months_name', data=generate_data_sales)\n",
    "plt.show()\n"
   ]
  },
  {
   "cell_type": "code",
   "execution_count": 8,
   "metadata": {
    "scrolled": true,
    "tags": [
     "body"
    ]
   },
   "outputs": [
    {
     "data": {
      "image/png": "[encoded data removed]",
      "text/plain": [
       "<Figure size 720x360 with 1 Axes>"
      ]
     },
     "metadata": {
      "needs_background": "light"
     },
     "output_type": "display_data"
    }
   ],
   "source": [
    "plt.figure(figsize=(10,5))\n",
    "sns.barplot(x = 'months_name', y='total', data = generate_data_sales)\n",
    "plt.show()"
   ]
  },
  {
   "cell_type": "markdown",
   "metadata": {
    "tags": [
     "orientation=columns"
    ]
   },
   "source": [
    "# Time Line Sales by Day"
   ]
  },
  {
   "cell_type": "markdown",
   "metadata": {},
   "source": [
    "## Sales General Resume by Day "
   ]
  },
  {
   "cell_type": "code",
   "execution_count": 9,
   "metadata": {
    "scrolled": true,
    "tags": [
     "body"
    ]
   },
   "outputs": [
    {
     "data": {
      "text/html": [
       "<div>\n",
       "<style scoped>\n",
       "    .dataframe tbody tr th:only-of-type {\n",
       "        vertical-align: middle;\n",
       "    }\n",
       "\n",
       "    .dataframe tbody tr th {\n",
       "        vertical-align: top;\n",
       "    }\n",
       "\n",
       "    .dataframe thead tr th {\n",
       "        text-align: left;\n",
       "    }\n",
       "\n",
       "    .dataframe thead tr:last-of-type th {\n",
       "        text-align: right;\n",
       "    }\n",
       "</style>\n",
       "<table border=\"1\" class=\"dataframe\">\n",
       "  <thead>\n",
       "    <tr>\n",
       "      <th></th>\n",
       "      <th colspan=\"6\" halign=\"left\">total</th>\n",
       "    </tr>\n",
       "    <tr>\n",
       "      <th></th>\n",
       "      <th>sum</th>\n",
       "      <th>max</th>\n",
       "      <th>median</th>\n",
       "      <th>min</th>\n",
       "      <th>mean</th>\n",
       "      <th>count</th>\n",
       "    </tr>\n",
       "    <tr>\n",
       "      <th>day</th>\n",
       "      <th></th>\n",
       "      <th></th>\n",
       "      <th></th>\n",
       "      <th></th>\n",
       "      <th></th>\n",
       "      <th></th>\n",
       "    </tr>\n",
       "  </thead>\n",
       "  <tbody>\n",
       "    <tr>\n",
       "      <th>1</th>\n",
       "      <td>319610</td>\n",
       "      <td>10680</td>\n",
       "      <td>2717.5</td>\n",
       "      <td>90</td>\n",
       "      <td>3400.106383</td>\n",
       "      <td>94</td>\n",
       "    </tr>\n",
       "    <tr>\n",
       "      <th>2</th>\n",
       "      <td>182398</td>\n",
       "      <td>10584</td>\n",
       "      <td>1954.5</td>\n",
       "      <td>20</td>\n",
       "      <td>2849.968750</td>\n",
       "      <td>64</td>\n",
       "    </tr>\n",
       "    <tr>\n",
       "      <th>3</th>\n",
       "      <td>119658</td>\n",
       "      <td>10005</td>\n",
       "      <td>2121.0</td>\n",
       "      <td>36</td>\n",
       "      <td>3148.894737</td>\n",
       "      <td>38</td>\n",
       "    </tr>\n",
       "    <tr>\n",
       "      <th>4</th>\n",
       "      <td>252253</td>\n",
       "      <td>10488</td>\n",
       "      <td>2223.0</td>\n",
       "      <td>40</td>\n",
       "      <td>2834.303371</td>\n",
       "      <td>89</td>\n",
       "    </tr>\n",
       "    <tr>\n",
       "      <th>5</th>\n",
       "      <td>210792</td>\n",
       "      <td>9085</td>\n",
       "      <td>1947.0</td>\n",
       "      <td>90</td>\n",
       "      <td>2509.428571</td>\n",
       "      <td>84</td>\n",
       "    </tr>\n",
       "    <tr>\n",
       "      <th>6</th>\n",
       "      <td>77034</td>\n",
       "      <td>7413</td>\n",
       "      <td>2216.5</td>\n",
       "      <td>204</td>\n",
       "      <td>2751.214286</td>\n",
       "      <td>28</td>\n",
       "    </tr>\n",
       "    <tr>\n",
       "      <th>7</th>\n",
       "      <td>68931</td>\n",
       "      <td>8136</td>\n",
       "      <td>1892.5</td>\n",
       "      <td>60</td>\n",
       "      <td>3133.227273</td>\n",
       "      <td>22</td>\n",
       "    </tr>\n",
       "    <tr>\n",
       "      <th>8</th>\n",
       "      <td>262073</td>\n",
       "      <td>10512</td>\n",
       "      <td>2120.0</td>\n",
       "      <td>93</td>\n",
       "      <td>2817.989247</td>\n",
       "      <td>93</td>\n",
       "    </tr>\n",
       "    <tr>\n",
       "      <th>9</th>\n",
       "      <td>212075</td>\n",
       "      <td>9048</td>\n",
       "      <td>2446.0</td>\n",
       "      <td>117</td>\n",
       "      <td>2945.486111</td>\n",
       "      <td>72</td>\n",
       "    </tr>\n",
       "    <tr>\n",
       "      <th>10</th>\n",
       "      <td>153733</td>\n",
       "      <td>8257</td>\n",
       "      <td>2265.0</td>\n",
       "      <td>15</td>\n",
       "      <td>2795.145455</td>\n",
       "      <td>55</td>\n",
       "    </tr>\n",
       "    <tr>\n",
       "      <th>11</th>\n",
       "      <td>216714</td>\n",
       "      <td>10080</td>\n",
       "      <td>2567.0</td>\n",
       "      <td>44</td>\n",
       "      <td>3009.916667</td>\n",
       "      <td>72</td>\n",
       "    </tr>\n",
       "    <tr>\n",
       "      <th>12</th>\n",
       "      <td>333700</td>\n",
       "      <td>10224</td>\n",
       "      <td>2394.0</td>\n",
       "      <td>24</td>\n",
       "      <td>3118.691589</td>\n",
       "      <td>107</td>\n",
       "    </tr>\n",
       "    <tr>\n",
       "      <th>13</th>\n",
       "      <td>106406</td>\n",
       "      <td>10680</td>\n",
       "      <td>2344.0</td>\n",
       "      <td>172</td>\n",
       "      <td>3325.187500</td>\n",
       "      <td>32</td>\n",
       "    </tr>\n",
       "    <tr>\n",
       "      <th>14</th>\n",
       "      <td>63100</td>\n",
       "      <td>8421</td>\n",
       "      <td>1843.0</td>\n",
       "      <td>61</td>\n",
       "      <td>2629.166667</td>\n",
       "      <td>24</td>\n",
       "    </tr>\n",
       "    <tr>\n",
       "      <th>15</th>\n",
       "      <td>346209</td>\n",
       "      <td>9528</td>\n",
       "      <td>2360.0</td>\n",
       "      <td>21</td>\n",
       "      <td>3235.598131</td>\n",
       "      <td>107</td>\n",
       "    </tr>\n",
       "    <tr>\n",
       "      <th>16</th>\n",
       "      <td>209814</td>\n",
       "      <td>10632</td>\n",
       "      <td>2156.0</td>\n",
       "      <td>18</td>\n",
       "      <td>3330.380952</td>\n",
       "      <td>63</td>\n",
       "    </tr>\n",
       "    <tr>\n",
       "      <th>17</th>\n",
       "      <td>207612</td>\n",
       "      <td>9456</td>\n",
       "      <td>2456.0</td>\n",
       "      <td>148</td>\n",
       "      <td>3053.117647</td>\n",
       "      <td>68</td>\n",
       "    </tr>\n",
       "    <tr>\n",
       "      <th>18</th>\n",
       "      <td>342214</td>\n",
       "      <td>9552</td>\n",
       "      <td>2289.0</td>\n",
       "      <td>76</td>\n",
       "      <td>3001.877193</td>\n",
       "      <td>114</td>\n",
       "    </tr>\n",
       "    <tr>\n",
       "      <th>19</th>\n",
       "      <td>281393</td>\n",
       "      <td>8448</td>\n",
       "      <td>2551.5</td>\n",
       "      <td>58</td>\n",
       "      <td>2931.177083</td>\n",
       "      <td>96</td>\n",
       "    </tr>\n",
       "    <tr>\n",
       "      <th>20</th>\n",
       "      <td>129467</td>\n",
       "      <td>9812</td>\n",
       "      <td>1820.0</td>\n",
       "      <td>144</td>\n",
       "      <td>3010.860465</td>\n",
       "      <td>43</td>\n",
       "    </tr>\n",
       "    <tr>\n",
       "      <th>21</th>\n",
       "      <td>115516</td>\n",
       "      <td>10120</td>\n",
       "      <td>3048.0</td>\n",
       "      <td>177</td>\n",
       "      <td>3300.457143</td>\n",
       "      <td>35</td>\n",
       "    </tr>\n",
       "    <tr>\n",
       "      <th>22</th>\n",
       "      <td>318681</td>\n",
       "      <td>10680</td>\n",
       "      <td>2110.0</td>\n",
       "      <td>66</td>\n",
       "      <td>2820.185841</td>\n",
       "      <td>113</td>\n",
       "    </tr>\n",
       "    <tr>\n",
       "      <th>23</th>\n",
       "      <td>154900</td>\n",
       "      <td>8717</td>\n",
       "      <td>2044.0</td>\n",
       "      <td>60</td>\n",
       "      <td>2766.071429</td>\n",
       "      <td>56</td>\n",
       "    </tr>\n",
       "    <tr>\n",
       "      <th>24</th>\n",
       "      <td>118932</td>\n",
       "      <td>7920</td>\n",
       "      <td>1792.0</td>\n",
       "      <td>142</td>\n",
       "      <td>2332.000000</td>\n",
       "      <td>51</td>\n",
       "    </tr>\n",
       "    <tr>\n",
       "      <th>25</th>\n",
       "      <td>277720</td>\n",
       "      <td>9768</td>\n",
       "      <td>1872.0</td>\n",
       "      <td>108</td>\n",
       "      <td>2595.514019</td>\n",
       "      <td>107</td>\n",
       "    </tr>\n",
       "    <tr>\n",
       "      <th>26</th>\n",
       "      <td>305260</td>\n",
       "      <td>9600</td>\n",
       "      <td>1953.0</td>\n",
       "      <td>114</td>\n",
       "      <td>2963.689320</td>\n",
       "      <td>103</td>\n",
       "    </tr>\n",
       "    <tr>\n",
       "      <th>27</th>\n",
       "      <td>110739</td>\n",
       "      <td>8740</td>\n",
       "      <td>3320.0</td>\n",
       "      <td>100</td>\n",
       "      <td>3818.586207</td>\n",
       "      <td>29</td>\n",
       "    </tr>\n",
       "    <tr>\n",
       "      <th>28</th>\n",
       "      <td>64504</td>\n",
       "      <td>8118</td>\n",
       "      <td>1155.0</td>\n",
       "      <td>274</td>\n",
       "      <td>2580.160000</td>\n",
       "      <td>25</td>\n",
       "    </tr>\n",
       "    <tr>\n",
       "      <th>29</th>\n",
       "      <td>120608</td>\n",
       "      <td>6354</td>\n",
       "      <td>1762.0</td>\n",
       "      <td>38</td>\n",
       "      <td>2079.448276</td>\n",
       "      <td>58</td>\n",
       "    </tr>\n",
       "    <tr>\n",
       "      <th>30</th>\n",
       "      <td>52988</td>\n",
       "      <td>8841</td>\n",
       "      <td>1885.0</td>\n",
       "      <td>415</td>\n",
       "      <td>2207.833333</td>\n",
       "      <td>24</td>\n",
       "    </tr>\n",
       "    <tr>\n",
       "      <th>31</th>\n",
       "      <td>108753</td>\n",
       "      <td>9900</td>\n",
       "      <td>2808.5</td>\n",
       "      <td>136</td>\n",
       "      <td>3198.617647</td>\n",
       "      <td>34</td>\n",
       "    </tr>\n",
       "  </tbody>\n",
       "</table>\n",
       "</div>"
      ],
      "text/plain": [
       "      total                                       \n",
       "        sum    max  median  min         mean count\n",
       "day                                               \n",
       "1    319610  10680  2717.5   90  3400.106383    94\n",
       "2    182398  10584  1954.5   20  2849.968750    64\n",
       "3    119658  10005  2121.0   36  3148.894737    38\n",
       "4    252253  10488  2223.0   40  2834.303371    89\n",
       "5    210792   9085  1947.0   90  2509.428571    84\n",
       "6     77034   7413  2216.5  204  2751.214286    28\n",
       "7     68931   8136  1892.5   60  3133.227273    22\n",
       "8    262073  10512  2120.0   93  2817.989247    93\n",
       "9    212075   9048  2446.0  117  2945.486111    72\n",
       "10   153733   8257  2265.0   15  2795.145455    55\n",
       "11   216714  10080  2567.0   44  3009.916667    72\n",
       "12   333700  10224  2394.0   24  3118.691589   107\n",
       "13   106406  10680  2344.0  172  3325.187500    32\n",
       "14    63100   8421  1843.0   61  2629.166667    24\n",
       "15   346209   9528  2360.0   21  3235.598131   107\n",
       "16   209814  10632  2156.0   18  3330.380952    63\n",
       "17   207612   9456  2456.0  148  3053.117647    68\n",
       "18   342214   9552  2289.0   76  3001.877193   114\n",
       "19   281393   8448  2551.5   58  2931.177083    96\n",
       "20   129467   9812  1820.0  144  3010.860465    43\n",
       "21   115516  10120  3048.0  177  3300.457143    35\n",
       "22   318681  10680  2110.0   66  2820.185841   113\n",
       "23   154900   8717  2044.0   60  2766.071429    56\n",
       "24   118932   7920  1792.0  142  2332.000000    51\n",
       "25   277720   9768  1872.0  108  2595.514019   107\n",
       "26   305260   9600  1953.0  114  2963.689320   103\n",
       "27   110739   8740  3320.0  100  3818.586207    29\n",
       "28    64504   8118  1155.0  274  2580.160000    25\n",
       "29   120608   6354  1762.0   38  2079.448276    58\n",
       "30    52988   8841  1885.0  415  2207.833333    24\n",
       "31   108753   9900  2808.5  136  3198.617647    34"
      ]
     },
     "execution_count": 9,
     "metadata": {},
     "output_type": "execute_result"
    }
   ],
   "source": [
    "generate_data_sales[['day', 'total']].groupby('day').agg(('sum', 'max', 'median', 'min', 'mean', 'count'))"
   ]
  },
  {
   "cell_type": "markdown",
   "metadata": {},
   "source": [
    "## Sales General Resume by day"
   ]
  },
  {
   "cell_type": "code",
   "execution_count": 10,
   "metadata": {
    "tags": [
     "body"
    ]
   },
   "outputs": [
    {
     "data": {
      "image/png": "[encoded data removed]",
      "text/plain": [
       "<Figure size 1080x720 with 1 Axes>"
      ]
     },
     "metadata": {
      "needs_background": "light"
     },
     "output_type": "display_data"
    }
   ],
   "source": [
    "plt.figure(figsize=(15,10))\n",
    "linetime_plot = sns.lineplot(x='day', y='total', data=generate_data_sales)\n",
    "plt.show()"
   ]
  },
  {
   "cell_type": "markdown",
   "metadata": {
    "tags": [
     "orientation=columns"
    ]
   },
   "source": [
    "# Time Line Sales by Week"
   ]
  },
  {
   "cell_type": "markdown",
   "metadata": {},
   "source": [
    "## Sales General Resume by Week"
   ]
  },
  {
   "cell_type": "code",
   "execution_count": 11,
   "metadata": {
    "tags": [
     "body"
    ]
   },
   "outputs": [
    {
     "data": {
      "text/html": [
       "<div>\n",
       "<style scoped>\n",
       "    .dataframe tbody tr th:only-of-type {\n",
       "        vertical-align: middle;\n",
       "    }\n",
       "\n",
       "    .dataframe tbody tr th {\n",
       "        vertical-align: top;\n",
       "    }\n",
       "\n",
       "    .dataframe thead tr th {\n",
       "        text-align: left;\n",
       "    }\n",
       "\n",
       "    .dataframe thead tr:last-of-type th {\n",
       "        text-align: right;\n",
       "    }\n",
       "</style>\n",
       "<table border=\"1\" class=\"dataframe\">\n",
       "  <thead>\n",
       "    <tr>\n",
       "      <th></th>\n",
       "      <th colspan=\"6\" halign=\"left\">total</th>\n",
       "    </tr>\n",
       "    <tr>\n",
       "      <th></th>\n",
       "      <th>sum</th>\n",
       "      <th>max</th>\n",
       "      <th>median</th>\n",
       "      <th>min</th>\n",
       "      <th>mean</th>\n",
       "      <th>count</th>\n",
       "    </tr>\n",
       "    <tr>\n",
       "      <th>week_day</th>\n",
       "      <th></th>\n",
       "      <th></th>\n",
       "      <th></th>\n",
       "      <th></th>\n",
       "      <th></th>\n",
       "      <th></th>\n",
       "    </tr>\n",
       "  </thead>\n",
       "  <tbody>\n",
       "    <tr>\n",
       "      <th>0</th>\n",
       "      <td>1112656</td>\n",
       "      <td>10680</td>\n",
       "      <td>2061.0</td>\n",
       "      <td>21</td>\n",
       "      <td>2781.640000</td>\n",
       "      <td>400</td>\n",
       "    </tr>\n",
       "    <tr>\n",
       "      <th>1</th>\n",
       "      <td>1162329</td>\n",
       "      <td>10632</td>\n",
       "      <td>2214.0</td>\n",
       "      <td>18</td>\n",
       "      <td>2869.948148</td>\n",
       "      <td>405</td>\n",
       "    </tr>\n",
       "    <tr>\n",
       "      <th>2</th>\n",
       "      <td>1132334</td>\n",
       "      <td>10680</td>\n",
       "      <td>2260.5</td>\n",
       "      <td>15</td>\n",
       "      <td>2995.592593</td>\n",
       "      <td>378</td>\n",
       "    </tr>\n",
       "    <tr>\n",
       "      <th>3</th>\n",
       "      <td>1087349</td>\n",
       "      <td>10488</td>\n",
       "      <td>2151.5</td>\n",
       "      <td>44</td>\n",
       "      <td>2907.350267</td>\n",
       "      <td>374</td>\n",
       "    </tr>\n",
       "    <tr>\n",
       "      <th>4</th>\n",
       "      <td>1349119</td>\n",
       "      <td>10680</td>\n",
       "      <td>2210.0</td>\n",
       "      <td>40</td>\n",
       "      <td>3045.415350</td>\n",
       "      <td>443</td>\n",
       "    </tr>\n",
       "  </tbody>\n",
       "</table>\n",
       "</div>"
      ],
      "text/plain": [
       "            total                                      \n",
       "              sum    max  median min         mean count\n",
       "week_day                                               \n",
       "0         1112656  10680  2061.0  21  2781.640000   400\n",
       "1         1162329  10632  2214.0  18  2869.948148   405\n",
       "2         1132334  10680  2260.5  15  2995.592593   378\n",
       "3         1087349  10488  2151.5  44  2907.350267   374\n",
       "4         1349119  10680  2210.0  40  3045.415350   443"
      ]
     },
     "execution_count": 11,
     "metadata": {},
     "output_type": "execute_result"
    }
   ],
   "source": [
    "generate_data_sales[['week_day', 'total']].groupby('week_day').agg(('sum', 'max', 'median', 'min', 'mean', 'count'))"
   ]
  },
  {
   "cell_type": "markdown",
   "metadata": {},
   "source": [
    "## Sales General Resume by Week"
   ]
  },
  {
   "cell_type": "code",
   "execution_count": 12,
   "metadata": {
    "scrolled": true,
    "tags": [
     "body"
    ]
   },
   "outputs": [
    {
     "data": {
      "image/png": "[encoded data removed]",
      "text/plain": [
       "<Figure size 1080x720 with 1 Axes>"
      ]
     },
     "metadata": {
      "needs_background": "light"
     },
     "output_type": "display_data"
    }
   ],
   "source": [
    "plt.figure(figsize=(15,10))\n",
    "linetime_plot = sns.lineplot(x='week_day', y='total', data=generate_data_sales)\n",
    "plt.show()"
   ]
  },
  {
   "cell_type": "markdown",
   "metadata": {
    "tags": [
     "orientation=columns"
    ]
   },
   "source": [
    "# Information by Store"
   ]
  },
  {
   "cell_type": "markdown",
   "metadata": {},
   "source": [
    "## General information by Store"
   ]
  },
  {
   "cell_type": "code",
   "execution_count": 13,
   "metadata": {
    "tags": [
     "source"
    ]
   },
   "outputs": [],
   "source": [
    "class Data_Generator_Stores:\n",
    "\n",
    "    def __init__(self, size_sample):\n",
    "        self.size_sample = size_sample\n",
    "\n",
    "    def store_id_fun(self, store_start, store_end):\n",
    "        store_id = np.random.randint(store_start, store_end, self.size_sample)\n",
    "        yield store_id\n",
    "\n",
    "    def store_type_id_fun(self, store_type_start, store_type_end):\n",
    "        store_id_type = np.random.randint(store_type_start, store_type_end, self.size_sample)\n",
    "        yield store_id_type\n",
    "\n",
    "    def assortment_data(self, product_start, product_end):\n",
    "        assortment = np.random.randint(product_start, product_end, self.size_sample)\n",
    "        yield assortment\n",
    "\n",
    "    def competition_distance(self, store_type_start, store_type_end):\n",
    "        compt_distance = np.random.randint(store_type_start, store_type_end, self.size_sample)\n",
    "        yield compt_distance\n",
    "\n",
    "    def competition_sice_month(self, store_type_start, store_type_end):\n",
    "        compt_sice_month = np.random.randint(store_type_start, store_type_end, self.size_sample)\n",
    "        yield compt_sice_month\n",
    "\n",
    "    def promo_id(self, store_type_start, store_type_end):\n",
    "        store_id = np.random.randint(store_type_start, store_type_end, self.size_sample)\n",
    "        yield store_id\n",
    "\n",
    "    def promo_week_id(self, store_type_start, store_type_end):\n",
    "        promo = np.random.randint(store_type_start, store_type_end, self.size_sample)\n",
    "        yield promo\n",
    "\n",
    "    def promo_activate(self, store_type_start, store_type_end):\n",
    "        promo_active = np.random.randint(store_type_start, store_type_end, self.size_sample)\n",
    "        yield promo_active\n",
    "\n",
    "\n",
    "def generate_store_data():\n",
    "\n",
    "    data_generator_store = Data_Generator_Stores(800)\n",
    "\n",
    "    generate_data_store = data_generator_store.store_id_fun(1, 45)\n",
    "    data_store = pd.DataFrame(next(generate_data_store), columns=['store_id'])\n",
    "\n",
    "    generate_data_store_type = data_generator_store.store_type_id_fun(1, 15)\n",
    "    data_store_type = pd.DataFrame(next(generate_data_store_type), columns=['store_type_id'])\n",
    "\n",
    "    generate_data_assortment = data_generator_store.assortment_data(1, 10)\n",
    "    data_assortment = pd.DataFrame(next(generate_data_assortment), columns=['assortment']) \n",
    "\n",
    "    generate_data_comentition_distance = data_generator_store.competition_distance(0, 10)\n",
    "    data_compt_distance = pd.DataFrame(next(generate_data_comentition_distance), columns=['competition_distance'])   \n",
    "\n",
    "    generate_data_competition_month = data_generator_store.competition_sice_month(0, 10)\n",
    "    data_compt_month = pd.DataFrame(next(generate_data_competition_month), columns=['competition_since_month'])   \n",
    "\n",
    "    generate_data_store_promo = data_generator_store.promo_id(0, 15)\n",
    "    data_store_promo = pd.DataFrame(next(generate_data_store_promo), columns=['promo'])\n",
    "\n",
    "    generate_data_store_promo_week = data_generator_store.promo_week_id(0, 3)\n",
    "    data_store_promo_week = pd.DataFrame(next(generate_data_store_promo_week), columns=['promo_week'])\n",
    "\n",
    "    generate_data_store_promo_activate = data_generator_store.promo_activate(0, 1)\n",
    "    data_store_promo_activate = pd.DataFrame(next(generate_data_store_promo_activate), columns=['promo_activate'])\n",
    "\n",
    "    merge_data = pd.concat([data_store, data_store_type, data_assortment,  data_compt_distance, data_compt_month, data_store_promo, data_store_promo_week, data_store_promo_activate], axis=1)\n",
    "\n",
    "    return merge_data\n",
    "\n",
    "generate_data_store = generate_store_data()"
   ]
  },
  {
   "cell_type": "code",
   "execution_count": 14,
   "metadata": {
    "tags": [
     "source"
    ]
   },
   "outputs": [],
   "source": [
    "generate_data_store = generate_store_data()\n",
    "df_full_data = pd.merge(generate_data_sales, generate_data_store, how='inner', on='store_id')"
   ]
  },
  {
   "cell_type": "code",
   "execution_count": 15,
   "metadata": {
    "tags": [
     "body"
    ]
   },
   "outputs": [
    {
     "data": {
      "text/html": [
       "<div>\n",
       "<style scoped>\n",
       "    .dataframe tbody tr th:only-of-type {\n",
       "        vertical-align: middle;\n",
       "    }\n",
       "\n",
       "    .dataframe tbody tr th {\n",
       "        vertical-align: top;\n",
       "    }\n",
       "\n",
       "    .dataframe thead tr th {\n",
       "        text-align: left;\n",
       "    }\n",
       "\n",
       "    .dataframe thead tr:last-of-type th {\n",
       "        text-align: right;\n",
       "    }\n",
       "</style>\n",
       "<table border=\"1\" class=\"dataframe\">\n",
       "  <thead>\n",
       "    <tr>\n",
       "      <th></th>\n",
       "      <th colspan=\"6\" halign=\"left\">store_id</th>\n",
       "    </tr>\n",
       "    <tr>\n",
       "      <th></th>\n",
       "      <th>sum</th>\n",
       "      <th>max</th>\n",
       "      <th>median</th>\n",
       "      <th>min</th>\n",
       "      <th>mean</th>\n",
       "      <th>count</th>\n",
       "    </tr>\n",
       "    <tr>\n",
       "      <th>total</th>\n",
       "      <th></th>\n",
       "      <th></th>\n",
       "      <th></th>\n",
       "      <th></th>\n",
       "      <th></th>\n",
       "      <th></th>\n",
       "    </tr>\n",
       "  </thead>\n",
       "  <tbody>\n",
       "    <tr>\n",
       "      <th>15</th>\n",
       "      <td>12</td>\n",
       "      <td>12</td>\n",
       "      <td>12.0</td>\n",
       "      <td>12</td>\n",
       "      <td>12.000000</td>\n",
       "      <td>1</td>\n",
       "    </tr>\n",
       "    <tr>\n",
       "      <th>18</th>\n",
       "      <td>8</td>\n",
       "      <td>8</td>\n",
       "      <td>8.0</td>\n",
       "      <td>8</td>\n",
       "      <td>8.000000</td>\n",
       "      <td>1</td>\n",
       "    </tr>\n",
       "    <tr>\n",
       "      <th>20</th>\n",
       "      <td>17</td>\n",
       "      <td>17</td>\n",
       "      <td>17.0</td>\n",
       "      <td>17</td>\n",
       "      <td>17.000000</td>\n",
       "      <td>1</td>\n",
       "    </tr>\n",
       "    <tr>\n",
       "      <th>21</th>\n",
       "      <td>23</td>\n",
       "      <td>23</td>\n",
       "      <td>23.0</td>\n",
       "      <td>23</td>\n",
       "      <td>23.000000</td>\n",
       "      <td>1</td>\n",
       "    </tr>\n",
       "    <tr>\n",
       "      <th>24</th>\n",
       "      <td>15</td>\n",
       "      <td>15</td>\n",
       "      <td>15.0</td>\n",
       "      <td>15</td>\n",
       "      <td>15.000000</td>\n",
       "      <td>1</td>\n",
       "    </tr>\n",
       "    <tr>\n",
       "      <th>...</th>\n",
       "      <td>...</td>\n",
       "      <td>...</td>\n",
       "      <td>...</td>\n",
       "      <td>...</td>\n",
       "      <td>...</td>\n",
       "      <td>...</td>\n",
       "    </tr>\n",
       "    <tr>\n",
       "      <th>10488</th>\n",
       "      <td>37</td>\n",
       "      <td>37</td>\n",
       "      <td>37.0</td>\n",
       "      <td>37</td>\n",
       "      <td>37.000000</td>\n",
       "      <td>1</td>\n",
       "    </tr>\n",
       "    <tr>\n",
       "      <th>10512</th>\n",
       "      <td>1</td>\n",
       "      <td>1</td>\n",
       "      <td>1.0</td>\n",
       "      <td>1</td>\n",
       "      <td>1.000000</td>\n",
       "      <td>1</td>\n",
       "    </tr>\n",
       "    <tr>\n",
       "      <th>10584</th>\n",
       "      <td>20</td>\n",
       "      <td>20</td>\n",
       "      <td>20.0</td>\n",
       "      <td>20</td>\n",
       "      <td>20.000000</td>\n",
       "      <td>1</td>\n",
       "    </tr>\n",
       "    <tr>\n",
       "      <th>10632</th>\n",
       "      <td>4</td>\n",
       "      <td>4</td>\n",
       "      <td>4.0</td>\n",
       "      <td>4</td>\n",
       "      <td>4.000000</td>\n",
       "      <td>1</td>\n",
       "    </tr>\n",
       "    <tr>\n",
       "      <th>10680</th>\n",
       "      <td>64</td>\n",
       "      <td>36</td>\n",
       "      <td>16.0</td>\n",
       "      <td>12</td>\n",
       "      <td>21.333333</td>\n",
       "      <td>3</td>\n",
       "    </tr>\n",
       "  </tbody>\n",
       "</table>\n",
       "<p>1481 rows × 6 columns</p>\n",
       "</div>"
      ],
      "text/plain": [
       "      store_id                                \n",
       "           sum max median min       mean count\n",
       "total                                         \n",
       "15          12  12   12.0  12  12.000000     1\n",
       "18           8   8    8.0   8   8.000000     1\n",
       "20          17  17   17.0  17  17.000000     1\n",
       "21          23  23   23.0  23  23.000000     1\n",
       "24          15  15   15.0  15  15.000000     1\n",
       "...        ...  ..    ...  ..        ...   ...\n",
       "10488       37  37   37.0  37  37.000000     1\n",
       "10512        1   1    1.0   1   1.000000     1\n",
       "10584       20  20   20.0  20  20.000000     1\n",
       "10632        4   4    4.0   4   4.000000     1\n",
       "10680       64  36   16.0  12  21.333333     3\n",
       "\n",
       "[1481 rows x 6 columns]"
      ]
     },
     "execution_count": 15,
     "metadata": {},
     "output_type": "execute_result"
    }
   ],
   "source": [
    "generate_data_sales[['store_id', 'total']].groupby('total').agg(('sum', 'max', 'median', 'min', 'mean', 'count'))\n"
   ]
  },
  {
   "cell_type": "markdown",
   "metadata": {},
   "source": [
    "## Col 2"
   ]
  },
  {
   "cell_type": "code",
   "execution_count": 16,
   "metadata": {
    "tags": [
     "body"
    ]
   },
   "outputs": [
    {
     "data": {
      "image/png": "[encoded data removed]",
      "text/plain": [
       "<Figure size 1080x720 with 1 Axes>"
      ]
     },
     "metadata": {
      "needs_background": "light"
     },
     "output_type": "display_data"
    }
   ],
   "source": [
    "plt.figure(figsize=(15,10))\n",
    "sns.barplot(x = 'store_id' , y = 'total', data = generate_data_sales)\n",
    "plt.show()"
   ]
  }
 ],
 "metadata": {
  "celltoolbar": "Tags",
  "kernelspec": {
   "display_name": "Python 3",
   "language": "python",
   "name": "python3"
  },
  "language_info": {
   "codemirror_mode": {
    "name": "ipython",
    "version": 3
   },
   "file_extension": ".py",
   "mimetype": "text/x-python",
   "name": "python",
   "nbconvert_exporter": "python",
   "pygments_lexer": "ipython3",
   "version": "3.9.2"
  }
 },
 "nbformat": 4,
 "nbformat_minor": 4
}
